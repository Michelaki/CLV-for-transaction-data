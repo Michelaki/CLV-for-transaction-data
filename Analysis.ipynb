{
 "cells": [
  {
   "cell_type": "markdown",
   "id": "742051bc",
   "metadata": {},
   "source": [
    "# Customer Lifetime Value"
   ]
  },
  {
   "cell_type": "code",
   "execution_count": 1,
   "id": "980054f4",
   "metadata": {},
   "outputs": [
    {
     "data": {
      "text/html": [
       "<div>\n",
       "<style scoped>\n",
       "    .dataframe tbody tr th:only-of-type {\n",
       "        vertical-align: middle;\n",
       "    }\n",
       "\n",
       "    .dataframe tbody tr th {\n",
       "        vertical-align: top;\n",
       "    }\n",
       "\n",
       "    .dataframe thead th {\n",
       "        text-align: right;\n",
       "    }\n",
       "</style>\n",
       "<table border=\"1\" class=\"dataframe\">\n",
       "  <thead>\n",
       "    <tr style=\"text-align: right;\">\n",
       "      <th></th>\n",
       "      <th>index</th>\n",
       "      <th>id</th>\n",
       "      <th>settledAt</th>\n",
       "      <th>ftd</th>\n",
       "      <th>amount</th>\n",
       "      <th>status</th>\n",
       "      <th>type</th>\n",
       "    </tr>\n",
       "  </thead>\n",
       "  <tbody>\n",
       "    <tr>\n",
       "      <th>0</th>\n",
       "      <td>0</td>\n",
       "      <td>128867</td>\n",
       "      <td>2022-03-10T14:14:34.583+0000</td>\n",
       "      <td>True</td>\n",
       "      <td>40.0</td>\n",
       "      <td>SUCCESS</td>\n",
       "      <td>deposit</td>\n",
       "    </tr>\n",
       "    <tr>\n",
       "      <th>1</th>\n",
       "      <td>1</td>\n",
       "      <td>128853</td>\n",
       "      <td>2022-03-10T11:30:45.292+0000</td>\n",
       "      <td>False</td>\n",
       "      <td>50.0</td>\n",
       "      <td>SUCCESS</td>\n",
       "      <td>deposit</td>\n",
       "    </tr>\n",
       "    <tr>\n",
       "      <th>2</th>\n",
       "      <td>1</td>\n",
       "      <td>128853</td>\n",
       "      <td>2022-03-10T09:55:57.469+0000</td>\n",
       "      <td>1.0</td>\n",
       "      <td>50.0</td>\n",
       "      <td>SUCCESS</td>\n",
       "      <td>deposit</td>\n",
       "    </tr>\n",
       "    <tr>\n",
       "      <th>3</th>\n",
       "      <td>2</td>\n",
       "      <td>128850</td>\n",
       "      <td>2022-03-10T11:06:32.510+0000</td>\n",
       "      <td>True</td>\n",
       "      <td>159.0</td>\n",
       "      <td>SUCCESS</td>\n",
       "      <td>deposit</td>\n",
       "    </tr>\n",
       "    <tr>\n",
       "      <th>4</th>\n",
       "      <td>2</td>\n",
       "      <td>128850</td>\n",
       "      <td>2022-03-10T11:32:38.318+0000</td>\n",
       "      <td>0.0</td>\n",
       "      <td>180.0</td>\n",
       "      <td>FAIL</td>\n",
       "      <td>deposit</td>\n",
       "    </tr>\n",
       "    <tr>\n",
       "      <th>...</th>\n",
       "      <td>...</td>\n",
       "      <td>...</td>\n",
       "      <td>...</td>\n",
       "      <td>...</td>\n",
       "      <td>...</td>\n",
       "      <td>...</td>\n",
       "      <td>...</td>\n",
       "    </tr>\n",
       "    <tr>\n",
       "      <th>180746</th>\n",
       "      <td>6675</td>\n",
       "      <td>5825</td>\n",
       "      <td>2020-03-23T08:26:33.212+0000</td>\n",
       "      <td>0.0</td>\n",
       "      <td>20.0</td>\n",
       "      <td>CANCEL</td>\n",
       "      <td>deposit</td>\n",
       "    </tr>\n",
       "    <tr>\n",
       "      <th>180747</th>\n",
       "      <td>6675</td>\n",
       "      <td>5825</td>\n",
       "      <td>2020-03-20T13:38:59.789+0000</td>\n",
       "      <td>0.0</td>\n",
       "      <td>25.0</td>\n",
       "      <td>FAIL</td>\n",
       "      <td>deposit</td>\n",
       "    </tr>\n",
       "    <tr>\n",
       "      <th>180748</th>\n",
       "      <td>6676</td>\n",
       "      <td>5774</td>\n",
       "      <td>2019-12-15T20:09:26.286+0000</td>\n",
       "      <td>False</td>\n",
       "      <td>50.0</td>\n",
       "      <td>ERROR</td>\n",
       "      <td>withdrawal</td>\n",
       "    </tr>\n",
       "    <tr>\n",
       "      <th>180749</th>\n",
       "      <td>6676</td>\n",
       "      <td>5774</td>\n",
       "      <td>2019-12-16T06:49:49.786+0000</td>\n",
       "      <td>0.0</td>\n",
       "      <td>50.0</td>\n",
       "      <td>SUCCESS</td>\n",
       "      <td>withdrawal</td>\n",
       "    </tr>\n",
       "    <tr>\n",
       "      <th>180750</th>\n",
       "      <td>6676</td>\n",
       "      <td>5774</td>\n",
       "      <td>2019-12-09T10:05:27.783+0000</td>\n",
       "      <td>1.0</td>\n",
       "      <td>50.0</td>\n",
       "      <td>SUCCESS</td>\n",
       "      <td>deposit</td>\n",
       "    </tr>\n",
       "  </tbody>\n",
       "</table>\n",
       "<p>180751 rows × 7 columns</p>\n",
       "</div>"
      ],
      "text/plain": [
       "        index      id                     settledAt    ftd  amount   status  \\\n",
       "0           0  128867  2022-03-10T14:14:34.583+0000   True    40.0  SUCCESS   \n",
       "1           1  128853  2022-03-10T11:30:45.292+0000  False    50.0  SUCCESS   \n",
       "2           1  128853  2022-03-10T09:55:57.469+0000    1.0    50.0  SUCCESS   \n",
       "3           2  128850  2022-03-10T11:06:32.510+0000   True   159.0  SUCCESS   \n",
       "4           2  128850  2022-03-10T11:32:38.318+0000    0.0   180.0     FAIL   \n",
       "...       ...     ...                           ...    ...     ...      ...   \n",
       "180746   6675    5825  2020-03-23T08:26:33.212+0000    0.0    20.0   CANCEL   \n",
       "180747   6675    5825  2020-03-20T13:38:59.789+0000    0.0    25.0     FAIL   \n",
       "180748   6676    5774  2019-12-15T20:09:26.286+0000  False    50.0    ERROR   \n",
       "180749   6676    5774  2019-12-16T06:49:49.786+0000    0.0    50.0  SUCCESS   \n",
       "180750   6676    5774  2019-12-09T10:05:27.783+0000    1.0    50.0  SUCCESS   \n",
       "\n",
       "              type  \n",
       "0          deposit  \n",
       "1          deposit  \n",
       "2          deposit  \n",
       "3          deposit  \n",
       "4          deposit  \n",
       "...            ...  \n",
       "180746     deposit  \n",
       "180747     deposit  \n",
       "180748  withdrawal  \n",
       "180749  withdrawal  \n",
       "180750     deposit  \n",
       "\n",
       "[180751 rows x 7 columns]"
      ]
     },
     "execution_count": 1,
     "metadata": {},
     "output_type": "execute_result"
    }
   ],
   "source": [
    "import pandas as pd\n",
    "import json\n",
    "\n",
    "df = pd.read_json('raw_customer_data.json', lines=True, orient='records') # read the document store to dataframe\n",
    "df = df.explode(\"transactions\") # because trasnsactions is a list of dicts\n",
    "id = df[\"id\"].reset_index() # keep the ids \n",
    "df = pd.json_normalize(df[\"transactions\"]) # dict to dataframe\n",
    "\n",
    "data = pd.merge(id,df,left_index=True, right_index=True)\n",
    "\n",
    "data"
   ]
  },
  {
   "cell_type": "markdown",
   "id": "ae1dd7a0",
   "metadata": {},
   "source": [
    "# EDA"
   ]
  },
  {
   "cell_type": "code",
   "execution_count": 2,
   "id": "597a0af7",
   "metadata": {},
   "outputs": [
    {
     "name": "stdout",
     "output_type": "stream",
     "text": [
      "Number of rows:  180751\n",
      "\n",
      "Number of features: 7\n",
      "\n",
      "Data Features:\n",
      "['index', 'id', 'settledAt', 'ftd', 'amount', 'status', 'type']\n",
      "\n",
      "Missing values: 0\n",
      "\n",
      "Unique values:\n",
      "index          6677\n",
      "id             6661\n",
      "settledAt    180663\n",
      "ftd               2\n",
      "amount         9400\n",
      "status            5\n",
      "type              3\n",
      "dtype: int64\n"
     ]
    }
   ],
   "source": [
    "#Get overview of the data\n",
    "def dataoveriew(df):\n",
    "    print('Number of rows: ', df.shape[0])\n",
    "    print(\"\\nNumber of features:\", df.shape[1])\n",
    "    print(\"\\nData Features:\")\n",
    "    print(df.columns.tolist())\n",
    "    print(\"\\nMissing values:\", df.isnull().sum().values.sum())\n",
    "    print(\"\\nUnique values:\")\n",
    "    print(df.nunique())\n",
    "\n",
    "dataoveriew(data)"
   ]
  },
  {
   "cell_type": "code",
   "execution_count": 3,
   "id": "5f88079d",
   "metadata": {},
   "outputs": [
    {
     "data": {
      "text/plain": [
       "index          int64\n",
       "id             int64\n",
       "settledAt     object\n",
       "ftd           object\n",
       "amount       float64\n",
       "status        object\n",
       "type          object\n",
       "dtype: object"
      ]
     },
     "execution_count": 3,
     "metadata": {},
     "output_type": "execute_result"
    }
   ],
   "source": [
    "data.dtypes"
   ]
  },
  {
   "cell_type": "code",
   "execution_count": 4,
   "id": "6cb13272",
   "metadata": {},
   "outputs": [
    {
     "data": {
      "text/plain": [
       "status\n",
       "CANCEL      20662\n",
       "ERROR        6621\n",
       "FAIL        27021\n",
       "INITIAL         7\n",
       "SUCCESS    126440\n",
       "Name: id, dtype: int64"
      ]
     },
     "execution_count": 4,
     "metadata": {},
     "output_type": "execute_result"
    }
   ],
   "source": [
    "data.groupby('status')['id'].count()"
   ]
  },
  {
   "cell_type": "code",
   "execution_count": 5,
   "id": "7575c54b",
   "metadata": {},
   "outputs": [
    {
     "data": {
      "text/plain": [
       "type\n",
       "deposit       92958\n",
       "transfer       6583\n",
       "withdrawal    81210\n",
       "Name: id, dtype: int64"
      ]
     },
     "execution_count": 5,
     "metadata": {},
     "output_type": "execute_result"
    }
   ],
   "source": [
    "data.groupby('type')['id'].count()"
   ]
  },
  {
   "cell_type": "code",
   "execution_count": 6,
   "id": "6777f6be",
   "metadata": {},
   "outputs": [
    {
     "data": {
      "text/html": [
       "<div>\n",
       "<style scoped>\n",
       "    .dataframe tbody tr th:only-of-type {\n",
       "        vertical-align: middle;\n",
       "    }\n",
       "\n",
       "    .dataframe tbody tr th {\n",
       "        vertical-align: top;\n",
       "    }\n",
       "\n",
       "    .dataframe thead th {\n",
       "        text-align: right;\n",
       "    }\n",
       "</style>\n",
       "<table border=\"1\" class=\"dataframe\">\n",
       "  <thead>\n",
       "    <tr style=\"text-align: right;\">\n",
       "      <th></th>\n",
       "      <th></th>\n",
       "      <th>ftd</th>\n",
       "    </tr>\n",
       "    <tr>\n",
       "      <th>id</th>\n",
       "      <th>ftd</th>\n",
       "      <th></th>\n",
       "    </tr>\n",
       "  </thead>\n",
       "  <tbody>\n",
       "    <tr>\n",
       "      <th rowspan=\"2\" valign=\"top\">5774</th>\n",
       "      <th>0.0</th>\n",
       "      <td>2</td>\n",
       "    </tr>\n",
       "    <tr>\n",
       "      <th>1.0</th>\n",
       "      <td>1</td>\n",
       "    </tr>\n",
       "    <tr>\n",
       "      <th rowspan=\"2\" valign=\"top\">5825</th>\n",
       "      <th>0.0</th>\n",
       "      <td>8</td>\n",
       "    </tr>\n",
       "    <tr>\n",
       "      <th>1.0</th>\n",
       "      <td>1</td>\n",
       "    </tr>\n",
       "    <tr>\n",
       "      <th>5830</th>\n",
       "      <th>0.0</th>\n",
       "      <td>2</td>\n",
       "    </tr>\n",
       "    <tr>\n",
       "      <th>...</th>\n",
       "      <th>...</th>\n",
       "      <td>...</td>\n",
       "    </tr>\n",
       "    <tr>\n",
       "      <th rowspan=\"2\" valign=\"top\">128850</th>\n",
       "      <th>0.0</th>\n",
       "      <td>2</td>\n",
       "    </tr>\n",
       "    <tr>\n",
       "      <th>1.0</th>\n",
       "      <td>2</td>\n",
       "    </tr>\n",
       "    <tr>\n",
       "      <th rowspan=\"2\" valign=\"top\">128853</th>\n",
       "      <th>0.0</th>\n",
       "      <td>2</td>\n",
       "    </tr>\n",
       "    <tr>\n",
       "      <th>1.0</th>\n",
       "      <td>2</td>\n",
       "    </tr>\n",
       "    <tr>\n",
       "      <th>128867</th>\n",
       "      <th>1.0</th>\n",
       "      <td>2</td>\n",
       "    </tr>\n",
       "  </tbody>\n",
       "</table>\n",
       "<p>12985 rows × 1 columns</p>\n",
       "</div>"
      ],
      "text/plain": [
       "            ftd\n",
       "id     ftd     \n",
       "5774   0.0    2\n",
       "       1.0    1\n",
       "5825   0.0    8\n",
       "       1.0    1\n",
       "5830   0.0    2\n",
       "...         ...\n",
       "128850 0.0    2\n",
       "       1.0    2\n",
       "128853 0.0    2\n",
       "       1.0    2\n",
       "128867 1.0    2\n",
       "\n",
       "[12985 rows x 1 columns]"
      ]
     },
     "execution_count": 6,
     "metadata": {},
     "output_type": "execute_result"
    }
   ],
   "source": [
    "# some ids have more than one 1.0 ftd count. it cannot be true.\n",
    "\n",
    "data['ftd'] = data['ftd'].astype(float) # convert to float to be able to count \n",
    "data.groupby('id')['ftd'].value_counts().to_frame()"
   ]
  },
  {
   "cell_type": "code",
   "execution_count": 7,
   "id": "e8cd20da",
   "metadata": {},
   "outputs": [
    {
     "data": {
      "text/html": [
       "<div>\n",
       "<style scoped>\n",
       "    .dataframe tbody tr th:only-of-type {\n",
       "        vertical-align: middle;\n",
       "    }\n",
       "\n",
       "    .dataframe tbody tr th {\n",
       "        vertical-align: top;\n",
       "    }\n",
       "\n",
       "    .dataframe thead th {\n",
       "        text-align: right;\n",
       "    }\n",
       "</style>\n",
       "<table border=\"1\" class=\"dataframe\">\n",
       "  <thead>\n",
       "    <tr style=\"text-align: right;\">\n",
       "      <th></th>\n",
       "      <th>index</th>\n",
       "      <th>id</th>\n",
       "      <th>settledAt</th>\n",
       "      <th>ftd</th>\n",
       "      <th>amount</th>\n",
       "      <th>status</th>\n",
       "      <th>type</th>\n",
       "    </tr>\n",
       "  </thead>\n",
       "  <tbody>\n",
       "    <tr>\n",
       "      <th>9</th>\n",
       "      <td>5</td>\n",
       "      <td>128785</td>\n",
       "      <td>2022-03-14T09:25:37.516+0000</td>\n",
       "      <td>1.0</td>\n",
       "      <td>40.0</td>\n",
       "      <td>SUCCESS</td>\n",
       "      <td>deposit</td>\n",
       "    </tr>\n",
       "    <tr>\n",
       "      <th>10</th>\n",
       "      <td>5</td>\n",
       "      <td>128785</td>\n",
       "      <td>2022-03-14T09:12:39.813+0000</td>\n",
       "      <td>0.0</td>\n",
       "      <td>40.0</td>\n",
       "      <td>INITIAL</td>\n",
       "      <td>deposit</td>\n",
       "    </tr>\n",
       "    <tr>\n",
       "      <th>140899</th>\n",
       "      <td>5593</td>\n",
       "      <td>128785</td>\n",
       "      <td>2022-03-14T09:25:37.516+0000</td>\n",
       "      <td>1.0</td>\n",
       "      <td>40.0</td>\n",
       "      <td>SUCCESS</td>\n",
       "      <td>deposit</td>\n",
       "    </tr>\n",
       "    <tr>\n",
       "      <th>140900</th>\n",
       "      <td>5593</td>\n",
       "      <td>128785</td>\n",
       "      <td>2022-03-14T10:27:07.348+0000</td>\n",
       "      <td>0.0</td>\n",
       "      <td>40.0</td>\n",
       "      <td>FAIL</td>\n",
       "      <td>deposit</td>\n",
       "    </tr>\n",
       "  </tbody>\n",
       "</table>\n",
       "</div>"
      ],
      "text/plain": [
       "        index      id                     settledAt  ftd  amount   status  \\\n",
       "9           5  128785  2022-03-14T09:25:37.516+0000  1.0    40.0  SUCCESS   \n",
       "10          5  128785  2022-03-14T09:12:39.813+0000  0.0    40.0  INITIAL   \n",
       "140899   5593  128785  2022-03-14T09:25:37.516+0000  1.0    40.0  SUCCESS   \n",
       "140900   5593  128785  2022-03-14T10:27:07.348+0000  0.0    40.0     FAIL   \n",
       "\n",
       "           type  \n",
       "9       deposit  \n",
       "10      deposit  \n",
       "140899  deposit  \n",
       "140900  deposit  "
      ]
     },
     "execution_count": 7,
     "metadata": {},
     "output_type": "execute_result"
    }
   ],
   "source": [
    "data[data['id']== 128785] # there are dublicate lines 9 and 140899"
   ]
  },
  {
   "cell_type": "code",
   "execution_count": 8,
   "id": "6f4cb3da",
   "metadata": {},
   "outputs": [],
   "source": [
    "data = data.drop(['index'],axis=1)\n",
    "\n",
    "data = data.drop_duplicates(ignore_index = True)   # remove dubplicates"
   ]
  },
  {
   "cell_type": "markdown",
   "id": "fb5fe491",
   "metadata": {},
   "source": [
    "# disregard all transactions that took place before the date of the ftd\n",
    "\n",
    "import datetime\n",
    "\n",
    "ids = list(data['id'].unique())\n",
    "\n",
    "for id in ids:\n",
    "    first_date = data[data['id'] == id][data['ftd']==1.0]['settledAt']\n",
    "    first_date = pd.to_datetime(first_date.values)\n",
    "    for k in (data[data['id'] == id][data['ftd']==0.0]['settledAt']).values :\n",
    "        if k < first_date:\n",
    "            i = data[data['id'] == id][data['settledAt'] == k].index\n",
    "            data = data.drop(i)"
   ]
  },
  {
   "cell_type": "code",
   "execution_count": 10,
   "id": "3440f01d",
   "metadata": {},
   "outputs": [
    {
     "data": {
      "text/html": [
       "<div>\n",
       "<style scoped>\n",
       "    .dataframe tbody tr th:only-of-type {\n",
       "        vertical-align: middle;\n",
       "    }\n",
       "\n",
       "    .dataframe tbody tr th {\n",
       "        vertical-align: top;\n",
       "    }\n",
       "\n",
       "    .dataframe thead th {\n",
       "        text-align: right;\n",
       "    }\n",
       "</style>\n",
       "<table border=\"1\" class=\"dataframe\">\n",
       "  <thead>\n",
       "    <tr style=\"text-align: right;\">\n",
       "      <th></th>\n",
       "      <th>id</th>\n",
       "      <th>settledAt</th>\n",
       "      <th>ftd</th>\n",
       "      <th>amount</th>\n",
       "      <th>status</th>\n",
       "      <th>type</th>\n",
       "    </tr>\n",
       "  </thead>\n",
       "  <tbody>\n",
       "    <tr>\n",
       "      <th>0</th>\n",
       "      <td>128867</td>\n",
       "      <td>2022-03-10T14:14:34.583+0000</td>\n",
       "      <td>1.0</td>\n",
       "      <td>40.0</td>\n",
       "      <td>SUCCESS</td>\n",
       "      <td>deposit</td>\n",
       "    </tr>\n",
       "    <tr>\n",
       "      <th>1</th>\n",
       "      <td>128853</td>\n",
       "      <td>2022-03-10T11:30:45.292+0000</td>\n",
       "      <td>0.0</td>\n",
       "      <td>50.0</td>\n",
       "      <td>SUCCESS</td>\n",
       "      <td>deposit</td>\n",
       "    </tr>\n",
       "    <tr>\n",
       "      <th>2</th>\n",
       "      <td>128853</td>\n",
       "      <td>2022-03-10T09:55:57.469+0000</td>\n",
       "      <td>1.0</td>\n",
       "      <td>50.0</td>\n",
       "      <td>SUCCESS</td>\n",
       "      <td>deposit</td>\n",
       "    </tr>\n",
       "    <tr>\n",
       "      <th>3</th>\n",
       "      <td>128850</td>\n",
       "      <td>2022-03-10T11:06:32.510+0000</td>\n",
       "      <td>1.0</td>\n",
       "      <td>159.0</td>\n",
       "      <td>SUCCESS</td>\n",
       "      <td>deposit</td>\n",
       "    </tr>\n",
       "    <tr>\n",
       "      <th>4</th>\n",
       "      <td>128850</td>\n",
       "      <td>2022-03-10T11:32:38.318+0000</td>\n",
       "      <td>0.0</td>\n",
       "      <td>180.0</td>\n",
       "      <td>FAIL</td>\n",
       "      <td>deposit</td>\n",
       "    </tr>\n",
       "    <tr>\n",
       "      <th>...</th>\n",
       "      <td>...</td>\n",
       "      <td>...</td>\n",
       "      <td>...</td>\n",
       "      <td>...</td>\n",
       "      <td>...</td>\n",
       "      <td>...</td>\n",
       "    </tr>\n",
       "    <tr>\n",
       "      <th>180654</th>\n",
       "      <td>5825</td>\n",
       "      <td>2020-03-23T08:48:32.463+0000</td>\n",
       "      <td>1.0</td>\n",
       "      <td>20.0</td>\n",
       "      <td>SUCCESS</td>\n",
       "      <td>deposit</td>\n",
       "    </tr>\n",
       "    <tr>\n",
       "      <th>180656</th>\n",
       "      <td>5825</td>\n",
       "      <td>2020-03-23T09:31:08.219+0000</td>\n",
       "      <td>0.0</td>\n",
       "      <td>20.0</td>\n",
       "      <td>FAIL</td>\n",
       "      <td>deposit</td>\n",
       "    </tr>\n",
       "    <tr>\n",
       "      <th>180661</th>\n",
       "      <td>5774</td>\n",
       "      <td>2019-12-15T20:09:26.286+0000</td>\n",
       "      <td>0.0</td>\n",
       "      <td>50.0</td>\n",
       "      <td>ERROR</td>\n",
       "      <td>withdrawal</td>\n",
       "    </tr>\n",
       "    <tr>\n",
       "      <th>180662</th>\n",
       "      <td>5774</td>\n",
       "      <td>2019-12-16T06:49:49.786+0000</td>\n",
       "      <td>0.0</td>\n",
       "      <td>50.0</td>\n",
       "      <td>SUCCESS</td>\n",
       "      <td>withdrawal</td>\n",
       "    </tr>\n",
       "    <tr>\n",
       "      <th>180663</th>\n",
       "      <td>5774</td>\n",
       "      <td>2019-12-09T10:05:27.783+0000</td>\n",
       "      <td>1.0</td>\n",
       "      <td>50.0</td>\n",
       "      <td>SUCCESS</td>\n",
       "      <td>deposit</td>\n",
       "    </tr>\n",
       "  </tbody>\n",
       "</table>\n",
       "<p>171940 rows × 6 columns</p>\n",
       "</div>"
      ],
      "text/plain": [
       "            id                     settledAt  ftd  amount   status        type\n",
       "0       128867  2022-03-10T14:14:34.583+0000  1.0    40.0  SUCCESS     deposit\n",
       "1       128853  2022-03-10T11:30:45.292+0000  0.0    50.0  SUCCESS     deposit\n",
       "2       128853  2022-03-10T09:55:57.469+0000  1.0    50.0  SUCCESS     deposit\n",
       "3       128850  2022-03-10T11:06:32.510+0000  1.0   159.0  SUCCESS     deposit\n",
       "4       128850  2022-03-10T11:32:38.318+0000  0.0   180.0     FAIL     deposit\n",
       "...        ...                           ...  ...     ...      ...         ...\n",
       "180654    5825  2020-03-23T08:48:32.463+0000  1.0    20.0  SUCCESS     deposit\n",
       "180656    5825  2020-03-23T09:31:08.219+0000  0.0    20.0     FAIL     deposit\n",
       "180661    5774  2019-12-15T20:09:26.286+0000  0.0    50.0    ERROR  withdrawal\n",
       "180662    5774  2019-12-16T06:49:49.786+0000  0.0    50.0  SUCCESS  withdrawal\n",
       "180663    5774  2019-12-09T10:05:27.783+0000  1.0    50.0  SUCCESS     deposit\n",
       "\n",
       "[171940 rows x 6 columns]"
      ]
     },
     "execution_count": 10,
     "metadata": {},
     "output_type": "execute_result"
    }
   ],
   "source": [
    "data"
   ]
  },
  {
   "cell_type": "code",
   "execution_count": 11,
   "id": "189ef18e",
   "metadata": {},
   "outputs": [
    {
     "data": {
      "text/plain": [
       "status\n",
       "CANCEL      14898\n",
       "ERROR        6558\n",
       "FAIL        24087\n",
       "INITIAL         6\n",
       "SUCCESS    126391\n",
       "Name: id, dtype: int64"
      ]
     },
     "execution_count": 11,
     "metadata": {},
     "output_type": "execute_result"
    }
   ],
   "source": [
    "data.groupby('status')['id'].count() # almost none of the dropped lines had status as success "
   ]
  },
  {
   "cell_type": "code",
   "execution_count": 12,
   "id": "b01f7866",
   "metadata": {},
   "outputs": [
    {
     "data": {
      "text/plain": [
       "type\n",
       "deposit       84182\n",
       "transfer       6576\n",
       "withdrawal    81182\n",
       "Name: id, dtype: int64"
      ]
     },
     "execution_count": 12,
     "metadata": {},
     "output_type": "execute_result"
    }
   ],
   "source": [
    "data.groupby('type')['id'].count() # almost all dropped lines where a deposit type"
   ]
  },
  {
   "cell_type": "code",
   "execution_count": 13,
   "id": "5ac6d01c",
   "metadata": {},
   "outputs": [],
   "source": [
    "# Next, let's do some visualisations \n",
    "\n",
    "timeseries = data.sort_values(by='settledAt') # sort data by date \n",
    "timeseries['settledAt'] = pd.to_datetime(timeseries['settledAt'])\n",
    "timeseries = timeseries.set_index('settledAt') # set index = date"
   ]
  },
  {
   "cell_type": "code",
   "execution_count": 14,
   "id": "e1a1270b",
   "metadata": {},
   "outputs": [
    {
     "data": {
      "image/png": "[encoded data removed]",
      "text/plain": [
       "<Figure size 1296x360 with 1 Axes>"
      ]
     },
     "metadata": {
      "needs_background": "light"
     },
     "output_type": "display_data"
    }
   ],
   "source": [
    "import matplotlib.pyplot as plt\n",
    "\n",
    "# Mean Amount of Deposits per Week\n",
    "\n",
    "ts_deposit = timeseries[timeseries['type']=='deposit']\n",
    "\n",
    "# Per week resample and take the mean\n",
    "plt.subplots(figsize=(18, 5))\n",
    "plt.title('Mean Amount of Deposits per Week')\n",
    "ax =ts_deposit.resample(\"W\")['amount'].mean().plot(kind=\"line\")"
   ]
  },
  {
   "cell_type": "code",
   "execution_count": 15,
   "id": "104284b7",
   "metadata": {},
   "outputs": [
    {
     "data": {
      "text/plain": [
       "<AxesSubplot:title={'center':'Mean Amount of Deposits per 10-days rolling window'}, xlabel='settledAt'>"
      ]
     },
     "execution_count": 15,
     "metadata": {},
     "output_type": "execute_result"
    },
    {
     "data": {
      "image/png": "[encoded data removed]",
      "text/plain": [
       "<Figure size 1296x360 with 1 Axes>"
      ]
     },
     "metadata": {
      "needs_background": "light"
     },
     "output_type": "display_data"
    }
   ],
   "source": [
    "# Mean Amount of Deposits per 10-days rolling window\n",
    "\n",
    "rw = ts_deposit['amount'].rolling(window=10)\n",
    "plt.subplots(figsize=(18, 5))\n",
    "plt.title('Mean Amount of Deposits per 10-days rolling window')\n",
    "rw.mean().plot()"
   ]
  },
  {
   "cell_type": "code",
   "execution_count": 16,
   "id": "003de0e0",
   "metadata": {},
   "outputs": [
    {
     "data": {
      "image/png": "[encoded data removed]",
      "text/plain": [
       "<Figure size 1296x288 with 1 Axes>"
      ]
     },
     "metadata": {
      "needs_background": "light"
     },
     "output_type": "display_data"
    }
   ],
   "source": [
    "#  Mean Amount of WIthdrawal per Month\n",
    "\n",
    "ts_withdrawal = timeseries[timeseries['type']=='withdrawal']\n",
    "plt.subplots(figsize=(18, 4))\n",
    "plt.title('Mean Amount of WIthdrawal per Month')\n",
    "ax =ts_withdrawal.resample(\"M\")['amount'].mean().plot(kind=\"line\")\n",
    "\n",
    "# more withdrawals during covid 19 period"
   ]
  },
  {
   "cell_type": "code",
   "execution_count": 19,
   "id": "e6244806",
   "metadata": {},
   "outputs": [
    {
     "data": {
      "image/png": "[encoded data removed]",
      "text/plain": [
       "<Figure size 1296x288 with 1 Axes>"
      ]
     },
     "metadata": {
      "needs_background": "light"
     },
     "output_type": "display_data"
    }
   ],
   "source": [
    "plt.subplots(figsize=(18, 4))\n",
    "plt.plot (ts_withdrawal.resample(\"M\")['amount'].mean(), label='Withdrawals')\n",
    "plt.plot(ts_deposit.resample(\"W\")['amount'].mean(), label = 'Deposits')\n",
    "plt.xlabel('Year-Month')\n",
    "plt.ylabel('Mean Amount')\n",
    "plt.legend() \n",
    "plt.show()"
   ]
  },
  {
   "cell_type": "code",
   "execution_count": 37,
   "id": "162d8496",
   "metadata": {},
   "outputs": [
    {
     "data": {
      "image/png": "[encoded data removed]",
      "text/plain": [
       "<Figure size 1296x288 with 1 Axes>"
      ]
     },
     "metadata": {
      "needs_background": "light"
     },
     "output_type": "display_data"
    },
    {
     "name": "stdout",
     "output_type": "stream",
     "text": [
      "Total number of customers:   6661\n"
     ]
    }
   ],
   "source": [
    "transactions_count = data.groupby('id').count()['settledAt'].sort_values(ascending=False)\n",
    "fig,ax = plt.subplots(figsize=(18, 4))\n",
    "ax.hist(transactions_count,bins =20)\n",
    "plt.xlabel('number of transactions')\n",
    "plt.ylabel('number of customers')\n",
    "plt.show()\n",
    "\n",
    "print('Total number of customers:   6661')"
   ]
  },
  {
   "cell_type": "markdown",
   "id": "6499bdc1",
   "metadata": {},
   "source": [
    "From the histogram above we see that almost all of our customers have less than 150 transactions in total for the 28-months period."
   ]
  },
  {
   "cell_type": "markdown",
   "id": "1e09fd4f",
   "metadata": {},
   "source": [
    "# CLV model"
   ]
  },
  {
   "cell_type": "code",
   "execution_count": 271,
   "id": "01cee1ed",
   "metadata": {},
   "outputs": [
    {
     "data": {
      "text/html": [
       "<div>\n",
       "<style scoped>\n",
       "    .dataframe tbody tr th:only-of-type {\n",
       "        vertical-align: middle;\n",
       "    }\n",
       "\n",
       "    .dataframe tbody tr th {\n",
       "        vertical-align: top;\n",
       "    }\n",
       "\n",
       "    .dataframe thead th {\n",
       "        text-align: right;\n",
       "    }\n",
       "</style>\n",
       "<table border=\"1\" class=\"dataframe\">\n",
       "  <thead>\n",
       "    <tr style=\"text-align: right;\">\n",
       "      <th></th>\n",
       "      <th>id</th>\n",
       "      <th>settledAt</th>\n",
       "      <th>ftd</th>\n",
       "      <th>amount</th>\n",
       "      <th>status</th>\n",
       "      <th>type</th>\n",
       "      <th>month_yr</th>\n",
       "    </tr>\n",
       "  </thead>\n",
       "  <tbody>\n",
       "    <tr>\n",
       "      <th>0</th>\n",
       "      <td>128867</td>\n",
       "      <td>2022-03-10 14:14:34.583000+00:00</td>\n",
       "      <td>1.0</td>\n",
       "      <td>40.0</td>\n",
       "      <td>SUCCESS</td>\n",
       "      <td>deposit</td>\n",
       "      <td>Mar-2022</td>\n",
       "    </tr>\n",
       "    <tr>\n",
       "      <th>1</th>\n",
       "      <td>128853</td>\n",
       "      <td>2022-03-10 11:30:45.292000+00:00</td>\n",
       "      <td>0.0</td>\n",
       "      <td>50.0</td>\n",
       "      <td>SUCCESS</td>\n",
       "      <td>deposit</td>\n",
       "      <td>Mar-2022</td>\n",
       "    </tr>\n",
       "    <tr>\n",
       "      <th>2</th>\n",
       "      <td>128853</td>\n",
       "      <td>2022-03-10 09:55:57.469000+00:00</td>\n",
       "      <td>1.0</td>\n",
       "      <td>50.0</td>\n",
       "      <td>SUCCESS</td>\n",
       "      <td>deposit</td>\n",
       "      <td>Mar-2022</td>\n",
       "    </tr>\n",
       "    <tr>\n",
       "      <th>3</th>\n",
       "      <td>128850</td>\n",
       "      <td>2022-03-10 11:06:32.510000+00:00</td>\n",
       "      <td>1.0</td>\n",
       "      <td>159.0</td>\n",
       "      <td>SUCCESS</td>\n",
       "      <td>deposit</td>\n",
       "      <td>Mar-2022</td>\n",
       "    </tr>\n",
       "    <tr>\n",
       "      <th>4</th>\n",
       "      <td>128797</td>\n",
       "      <td>2022-03-10 08:40:27.015000+00:00</td>\n",
       "      <td>1.0</td>\n",
       "      <td>100.0</td>\n",
       "      <td>SUCCESS</td>\n",
       "      <td>deposit</td>\n",
       "      <td>Mar-2022</td>\n",
       "    </tr>\n",
       "    <tr>\n",
       "      <th>...</th>\n",
       "      <td>...</td>\n",
       "      <td>...</td>\n",
       "      <td>...</td>\n",
       "      <td>...</td>\n",
       "      <td>...</td>\n",
       "      <td>...</td>\n",
       "      <td>...</td>\n",
       "    </tr>\n",
       "    <tr>\n",
       "      <th>126389</th>\n",
       "      <td>5825</td>\n",
       "      <td>2020-03-26 09:52:46.377000+00:00</td>\n",
       "      <td>0.0</td>\n",
       "      <td>20.0</td>\n",
       "      <td>SUCCESS</td>\n",
       "      <td>deposit</td>\n",
       "      <td>Mar-2020</td>\n",
       "    </tr>\n",
       "    <tr>\n",
       "      <th>126390</th>\n",
       "      <td>5825</td>\n",
       "      <td>2020-03-23 13:15:44.117000+00:00</td>\n",
       "      <td>0.0</td>\n",
       "      <td>6.0</td>\n",
       "      <td>SUCCESS</td>\n",
       "      <td>withdrawal</td>\n",
       "      <td>Mar-2020</td>\n",
       "    </tr>\n",
       "    <tr>\n",
       "      <th>126391</th>\n",
       "      <td>5825</td>\n",
       "      <td>2020-03-23 08:48:32.463000+00:00</td>\n",
       "      <td>1.0</td>\n",
       "      <td>20.0</td>\n",
       "      <td>SUCCESS</td>\n",
       "      <td>deposit</td>\n",
       "      <td>Mar-2020</td>\n",
       "    </tr>\n",
       "    <tr>\n",
       "      <th>126392</th>\n",
       "      <td>5774</td>\n",
       "      <td>2019-12-16 06:49:49.786000+00:00</td>\n",
       "      <td>0.0</td>\n",
       "      <td>50.0</td>\n",
       "      <td>SUCCESS</td>\n",
       "      <td>withdrawal</td>\n",
       "      <td>Dec-2019</td>\n",
       "    </tr>\n",
       "    <tr>\n",
       "      <th>126393</th>\n",
       "      <td>5774</td>\n",
       "      <td>2019-12-09 10:05:27.783000+00:00</td>\n",
       "      <td>1.0</td>\n",
       "      <td>50.0</td>\n",
       "      <td>SUCCESS</td>\n",
       "      <td>deposit</td>\n",
       "      <td>Dec-2019</td>\n",
       "    </tr>\n",
       "  </tbody>\n",
       "</table>\n",
       "<p>126394 rows × 7 columns</p>\n",
       "</div>"
      ],
      "text/plain": [
       "            id                        settledAt  ftd  amount   status  \\\n",
       "0       128867 2022-03-10 14:14:34.583000+00:00  1.0    40.0  SUCCESS   \n",
       "1       128853 2022-03-10 11:30:45.292000+00:00  0.0    50.0  SUCCESS   \n",
       "2       128853 2022-03-10 09:55:57.469000+00:00  1.0    50.0  SUCCESS   \n",
       "3       128850 2022-03-10 11:06:32.510000+00:00  1.0   159.0  SUCCESS   \n",
       "4       128797 2022-03-10 08:40:27.015000+00:00  1.0   100.0  SUCCESS   \n",
       "...        ...                              ...  ...     ...      ...   \n",
       "126389    5825 2020-03-26 09:52:46.377000+00:00  0.0    20.0  SUCCESS   \n",
       "126390    5825 2020-03-23 13:15:44.117000+00:00  0.0     6.0  SUCCESS   \n",
       "126391    5825 2020-03-23 08:48:32.463000+00:00  1.0    20.0  SUCCESS   \n",
       "126392    5774 2019-12-16 06:49:49.786000+00:00  0.0    50.0  SUCCESS   \n",
       "126393    5774 2019-12-09 10:05:27.783000+00:00  1.0    50.0  SUCCESS   \n",
       "\n",
       "              type  month_yr  \n",
       "0          deposit  Mar-2022  \n",
       "1          deposit  Mar-2022  \n",
       "2          deposit  Mar-2022  \n",
       "3          deposit  Mar-2022  \n",
       "4          deposit  Mar-2022  \n",
       "...            ...       ...  \n",
       "126389     deposit  Mar-2020  \n",
       "126390  withdrawal  Mar-2020  \n",
       "126391     deposit  Mar-2020  \n",
       "126392  withdrawal  Dec-2019  \n",
       "126393     deposit  Dec-2019  \n",
       "\n",
       "[126394 rows x 7 columns]"
      ]
     },
     "execution_count": 271,
     "metadata": {},
     "output_type": "execute_result"
    }
   ],
   "source": [
    "# new column of month and year of the transaction\n",
    "\n",
    "data['settledAt'] = pd.to_datetime(data['settledAt'])\n",
    "data['month_yr'] = data['settledAt'].apply(lambda x: x.strftime('%b-%Y'))\n",
    "\n",
    "# drop lines with unsuccessfull transactions so as not to count their amount on the model\n",
    "data = data.drop(data[data['status']=='FAIL'].index)\n",
    "data = data.drop(data[data['status']=='CANCEL'].index)\n",
    "data = data.drop(data[data['status']=='ERROR'].index)\n",
    "\n",
    "data = data.drop(data[data['amount']==0.0].index) # drop lines with zero value\n",
    "data = data.reset_index(drop=True)\n",
    "data"
   ]
  },
  {
   "cell_type": "code",
   "execution_count": 272,
   "id": "0a0f2ac3",
   "metadata": {},
   "outputs": [
    {
     "data": {
      "text/html": [
       "<div>\n",
       "<style scoped>\n",
       "    .dataframe tbody tr th:only-of-type {\n",
       "        vertical-align: middle;\n",
       "    }\n",
       "\n",
       "    .dataframe tbody tr th {\n",
       "        vertical-align: top;\n",
       "    }\n",
       "\n",
       "    .dataframe thead th {\n",
       "        text-align: right;\n",
       "    }\n",
       "</style>\n",
       "<table border=\"1\" class=\"dataframe\">\n",
       "  <thead>\n",
       "    <tr style=\"text-align: right;\">\n",
       "      <th>month_yr</th>\n",
       "      <th>id</th>\n",
       "      <th>Apr-2020</th>\n",
       "      <th>Apr-2021</th>\n",
       "      <th>Aug-2020</th>\n",
       "      <th>Aug-2021</th>\n",
       "      <th>Dec-2019</th>\n",
       "      <th>Dec-2020</th>\n",
       "      <th>Dec-2021</th>\n",
       "      <th>Feb-2020</th>\n",
       "      <th>Feb-2021</th>\n",
       "      <th>...</th>\n",
       "      <th>Mar-2022</th>\n",
       "      <th>May-2020</th>\n",
       "      <th>May-2021</th>\n",
       "      <th>Nov-2020</th>\n",
       "      <th>Nov-2021</th>\n",
       "      <th>Oct-2020</th>\n",
       "      <th>Oct-2021</th>\n",
       "      <th>Sep-2020</th>\n",
       "      <th>Sep-2021</th>\n",
       "      <th>CLV</th>\n",
       "    </tr>\n",
       "  </thead>\n",
       "  <tbody>\n",
       "    <tr>\n",
       "      <th>0</th>\n",
       "      <td>5774</td>\n",
       "      <td>0.0</td>\n",
       "      <td>0.0</td>\n",
       "      <td>0.0</td>\n",
       "      <td>0.0</td>\n",
       "      <td>100.0</td>\n",
       "      <td>0.0</td>\n",
       "      <td>0.0</td>\n",
       "      <td>0.0</td>\n",
       "      <td>0.0</td>\n",
       "      <td>...</td>\n",
       "      <td>0.0</td>\n",
       "      <td>0.0</td>\n",
       "      <td>0.0</td>\n",
       "      <td>0.0</td>\n",
       "      <td>0.0</td>\n",
       "      <td>0.0</td>\n",
       "      <td>0.0</td>\n",
       "      <td>0.0</td>\n",
       "      <td>0.0</td>\n",
       "      <td>100.00</td>\n",
       "    </tr>\n",
       "    <tr>\n",
       "      <th>1</th>\n",
       "      <td>5825</td>\n",
       "      <td>0.0</td>\n",
       "      <td>0.0</td>\n",
       "      <td>0.0</td>\n",
       "      <td>0.0</td>\n",
       "      <td>0.0</td>\n",
       "      <td>0.0</td>\n",
       "      <td>0.0</td>\n",
       "      <td>0.0</td>\n",
       "      <td>0.0</td>\n",
       "      <td>...</td>\n",
       "      <td>0.0</td>\n",
       "      <td>0.0</td>\n",
       "      <td>0.0</td>\n",
       "      <td>0.0</td>\n",
       "      <td>0.0</td>\n",
       "      <td>0.0</td>\n",
       "      <td>0.0</td>\n",
       "      <td>0.0</td>\n",
       "      <td>0.0</td>\n",
       "      <td>46.00</td>\n",
       "    </tr>\n",
       "    <tr>\n",
       "      <th>2</th>\n",
       "      <td>5830</td>\n",
       "      <td>100.0</td>\n",
       "      <td>0.0</td>\n",
       "      <td>0.0</td>\n",
       "      <td>0.0</td>\n",
       "      <td>0.0</td>\n",
       "      <td>0.0</td>\n",
       "      <td>0.0</td>\n",
       "      <td>0.0</td>\n",
       "      <td>0.0</td>\n",
       "      <td>...</td>\n",
       "      <td>0.0</td>\n",
       "      <td>0.0</td>\n",
       "      <td>0.0</td>\n",
       "      <td>0.0</td>\n",
       "      <td>0.0</td>\n",
       "      <td>0.0</td>\n",
       "      <td>0.0</td>\n",
       "      <td>0.0</td>\n",
       "      <td>0.0</td>\n",
       "      <td>100.00</td>\n",
       "    </tr>\n",
       "    <tr>\n",
       "      <th>3</th>\n",
       "      <td>5838</td>\n",
       "      <td>62.0</td>\n",
       "      <td>0.0</td>\n",
       "      <td>0.0</td>\n",
       "      <td>0.0</td>\n",
       "      <td>0.0</td>\n",
       "      <td>2.0</td>\n",
       "      <td>0.0</td>\n",
       "      <td>158.0</td>\n",
       "      <td>0.0</td>\n",
       "      <td>...</td>\n",
       "      <td>0.0</td>\n",
       "      <td>0.0</td>\n",
       "      <td>0.0</td>\n",
       "      <td>100.0</td>\n",
       "      <td>0.0</td>\n",
       "      <td>0.0</td>\n",
       "      <td>0.0</td>\n",
       "      <td>0.0</td>\n",
       "      <td>0.0</td>\n",
       "      <td>1195.77</td>\n",
       "    </tr>\n",
       "    <tr>\n",
       "      <th>4</th>\n",
       "      <td>5839</td>\n",
       "      <td>60.0</td>\n",
       "      <td>0.0</td>\n",
       "      <td>0.0</td>\n",
       "      <td>0.0</td>\n",
       "      <td>640.0</td>\n",
       "      <td>0.0</td>\n",
       "      <td>0.0</td>\n",
       "      <td>30.0</td>\n",
       "      <td>0.0</td>\n",
       "      <td>...</td>\n",
       "      <td>0.0</td>\n",
       "      <td>30.0</td>\n",
       "      <td>0.0</td>\n",
       "      <td>0.0</td>\n",
       "      <td>0.0</td>\n",
       "      <td>0.0</td>\n",
       "      <td>0.0</td>\n",
       "      <td>0.0</td>\n",
       "      <td>0.0</td>\n",
       "      <td>916.68</td>\n",
       "    </tr>\n",
       "  </tbody>\n",
       "</table>\n",
       "<p>5 rows × 30 columns</p>\n",
       "</div>"
      ],
      "text/plain": [
       "month_yr    id  Apr-2020  Apr-2021  Aug-2020  Aug-2021  Dec-2019  Dec-2020  \\\n",
       "0         5774       0.0       0.0       0.0       0.0     100.0       0.0   \n",
       "1         5825       0.0       0.0       0.0       0.0       0.0       0.0   \n",
       "2         5830     100.0       0.0       0.0       0.0       0.0       0.0   \n",
       "3         5838      62.0       0.0       0.0       0.0       0.0       2.0   \n",
       "4         5839      60.0       0.0       0.0       0.0     640.0       0.0   \n",
       "\n",
       "month_yr  Dec-2021  Feb-2020  Feb-2021  ...  Mar-2022  May-2020  May-2021  \\\n",
       "0              0.0       0.0       0.0  ...       0.0       0.0       0.0   \n",
       "1              0.0       0.0       0.0  ...       0.0       0.0       0.0   \n",
       "2              0.0       0.0       0.0  ...       0.0       0.0       0.0   \n",
       "3              0.0     158.0       0.0  ...       0.0       0.0       0.0   \n",
       "4              0.0      30.0       0.0  ...       0.0      30.0       0.0   \n",
       "\n",
       "month_yr  Nov-2020  Nov-2021  Oct-2020  Oct-2021  Sep-2020  Sep-2021      CLV  \n",
       "0              0.0       0.0       0.0       0.0       0.0       0.0   100.00  \n",
       "1              0.0       0.0       0.0       0.0       0.0       0.0    46.00  \n",
       "2              0.0       0.0       0.0       0.0       0.0       0.0   100.00  \n",
       "3            100.0       0.0       0.0       0.0       0.0       0.0  1195.77  \n",
       "4              0.0       0.0       0.0       0.0       0.0       0.0   916.68  \n",
       "\n",
       "[5 rows x 30 columns]"
      ]
     },
     "execution_count": 272,
     "metadata": {},
     "output_type": "execute_result"
    }
   ],
   "source": [
    "# create a pivot table of the sum of transactions per month for each customer.\n",
    "\n",
    "transactions = data.pivot_table(index=['id'],columns=['month_yr'],values='amount',\n",
    "                                aggfunc='sum',fill_value=0).reset_index()\n",
    "\n",
    "# add a column with the sum of all months for each customer which is equal to the CLV \n",
    "\n",
    "transactions['CLV'] = transactions.iloc[:,1:].sum(axis=1)\n",
    "\n",
    "transactions.head(5)"
   ]
  },
  {
   "cell_type": "code",
   "execution_count": 273,
   "id": "77e5cc5d",
   "metadata": {},
   "outputs": [
    {
     "data": {
      "text/plain": [
       "<AxesSubplot:xlabel='month_yr', ylabel='month_yr'>"
      ]
     },
     "execution_count": 273,
     "metadata": {},
     "output_type": "execute_result"
    },
    {
     "data": {
      "image/png": "[encoded data removed]",
      "text/plain": [
       "<Figure size 432x288 with 2 Axes>"
      ]
     },
     "metadata": {
      "needs_background": "light"
     },
     "output_type": "display_data"
    }
   ],
   "source": [
    "# Let’s visualize the correlation between variables\n",
    "\n",
    "import seaborn as sns\n",
    "sns.heatmap(transactions.corr())"
   ]
  },
  {
   "cell_type": "markdown",
   "id": "673e33ba",
   "metadata": {},
   "source": [
    "Selecting Feature\n",
    "\n",
    "\n",
    "Here, you need to divide the given columns into two types of variables dependent and independent variable. Select latest 24 month as independent variable."
   ]
  },
  {
   "cell_type": "code",
   "execution_count": 274,
   "id": "8cfa4aea",
   "metadata": {},
   "outputs": [
    {
     "data": {
      "text/plain": [
       "array(['Mar-2022', 'Feb-2022', 'Jan-2022', 'Dec-2021', 'Nov-2021',\n",
       "       'Oct-2021', 'Sep-2021', 'Aug-2021', 'Jul-2021', 'Jun-2021',\n",
       "       'May-2021', 'Apr-2021', 'Mar-2021', 'Feb-2021', 'Jan-2021',\n",
       "       'Dec-2020', 'Nov-2020', 'Oct-2020', 'Sep-2020', 'Aug-2020',\n",
       "       'Jul-2020', 'Jun-2020', 'May-2020', 'Apr-2020', 'Mar-2020',\n",
       "       'Feb-2020', 'Jan-2020', 'Dec-2019'], dtype=object)"
      ]
     },
     "execution_count": 274,
     "metadata": {},
     "output_type": "execute_result"
    }
   ],
   "source": [
    "# from the 28 months we need to choose how many will be used for the model.\n",
    "\n",
    "data['month_yr'].unique() "
   ]
  },
  {
   "cell_type": "code",
   "execution_count": 275,
   "id": "14145334",
   "metadata": {},
   "outputs": [],
   "source": [
    "X= transactions[['Mar-2022', 'Feb-2022', 'Jan-2022', 'Dec-2021', 'Nov-2021',\n",
    "       'Oct-2021', 'Sep-2021', 'Aug-2021', 'Jul-2021', 'Jun-2021',\n",
    "       'May-2021', 'Apr-2021', 'Mar-2021', 'Feb-2021', 'Jan-2021',\n",
    "                'Dec-2020', 'Nov-2020', 'Oct-2020', 'Sep-2020', 'Aug-2020']] # last 24 months\n",
    "y= transactions[['CLV']]"
   ]
  },
  {
   "cell_type": "code",
   "execution_count": 276,
   "id": "259a94ba",
   "metadata": {},
   "outputs": [],
   "source": [
    "#split training set and test set\n",
    "\n",
    "from sklearn.model_selection import train_test_split\n",
    "X_train, X_test, Y_train, Y_test = train_test_split(X, y, test_size=0.3, random_state = 50)\n",
    "# random state to take the same results in each run"
   ]
  },
  {
   "cell_type": "code",
   "execution_count": 277,
   "id": "d338c285",
   "metadata": {},
   "outputs": [
    {
     "name": "stdout",
     "output_type": "stream",
     "text": [
      "[1830.67219359]\n",
      "[[1.01167162 0.93723775 0.97497648 1.1336007  1.06294371 1.01319259\n",
      "  1.01574544 0.98163043 0.96380914 1.12757214 1.01784135 0.95770296\n",
      "  0.92653398 1.02870423 0.99906747 0.99291917 1.13384741 0.84709734\n",
      "  0.90280358 1.67551208]]\n"
     ]
    }
   ],
   "source": [
    "# import model\n",
    "from sklearn.linear_model import LinearRegression\n",
    "\n",
    "# instantiate\n",
    "linreg = LinearRegression()\n",
    "\n",
    "\n",
    "# fit the model to the training data (learn the coefficients)\n",
    "linreg.fit(X_train, Y_train)\n",
    "\n",
    "\n",
    "# make predictions on the testing set\n",
    "y_pred = linreg.predict(X_test)\n",
    "\n",
    "# print the intercept and coefficients\n",
    "print(linreg.intercept_)\n",
    "print(linreg.coef_)"
   ]
  },
  {
   "cell_type": "markdown",
   "id": "29b85381",
   "metadata": {},
   "source": [
    "Here, we observe that the features have positive correlation with the target variable."
   ]
  },
  {
   "cell_type": "markdown",
   "id": "14de64c9",
   "metadata": {},
   "source": [
    "# Model Evaluation"
   ]
  },
  {
   "cell_type": "code",
   "execution_count": 278,
   "id": "e511c8f6",
   "metadata": {},
   "outputs": [
    {
     "name": "stdout",
     "output_type": "stream",
     "text": [
      "R-Square: 0.9474697852351229\n",
      "Mean Absolute Error: 3609.1511798433885\n",
      "Mean Squared Error: 369603071.69485277\n",
      "Root Mean Squared Error: 19225.06363305081\n"
     ]
    }
   ],
   "source": [
    "import numpy as np \n",
    "from sklearn import metrics\n",
    "\n",
    "print(\"R-Square:\",metrics.r2_score(Y_test, y_pred))\n",
    "print('Mean Absolute Error:', metrics.mean_absolute_error(Y_test, y_pred))  \n",
    "print('Mean Squared Error:', metrics.mean_squared_error(Y_test, y_pred))  \n",
    "print('Root Mean Squared Error:', np.sqrt(metrics.mean_squared_error(Y_test, y_pred)))"
   ]
  },
  {
   "cell_type": "code",
   "execution_count": 279,
   "id": "1e4b8852",
   "metadata": {},
   "outputs": [
    {
     "data": {
      "text/plain": [
       "0.9474697852351229"
      ]
     },
     "execution_count": 279,
     "metadata": {},
     "output_type": "execute_result"
    }
   ],
   "source": [
    "linreg.score(X_test, Y_test) # model.score = R-square"
   ]
  },
  {
   "cell_type": "code",
   "execution_count": 280,
   "id": "1ac76514",
   "metadata": {},
   "outputs": [],
   "source": [
    "def flatten(xss):\n",
    "    return [x for xs in xss for x in xs]\n",
    "\n",
    "flat_y_pred = flatten(y_pred)"
   ]
  },
  {
   "cell_type": "code",
   "execution_count": 296,
   "id": "b28f9df2",
   "metadata": {},
   "outputs": [
    {
     "data": {
      "text/html": [
       "<div>\n",
       "<style scoped>\n",
       "    .dataframe tbody tr th:only-of-type {\n",
       "        vertical-align: middle;\n",
       "    }\n",
       "\n",
       "    .dataframe tbody tr th {\n",
       "        vertical-align: top;\n",
       "    }\n",
       "\n",
       "    .dataframe thead th {\n",
       "        text-align: right;\n",
       "    }\n",
       "</style>\n",
       "<table border=\"1\" class=\"dataframe\">\n",
       "  <thead>\n",
       "    <tr style=\"text-align: right;\">\n",
       "      <th></th>\n",
       "      <th>id</th>\n",
       "      <th>CLV_pred</th>\n",
       "    </tr>\n",
       "  </thead>\n",
       "  <tbody>\n",
       "    <tr>\n",
       "      <th>0</th>\n",
       "      <td>108917</td>\n",
       "      <td>1921.360250</td>\n",
       "    </tr>\n",
       "    <tr>\n",
       "      <th>1</th>\n",
       "      <td>110492</td>\n",
       "      <td>76658.540016</td>\n",
       "    </tr>\n",
       "    <tr>\n",
       "      <th>2</th>\n",
       "      <td>112307</td>\n",
       "      <td>1853.349142</td>\n",
       "    </tr>\n",
       "    <tr>\n",
       "      <th>3</th>\n",
       "      <td>114731</td>\n",
       "      <td>2074.268242</td>\n",
       "    </tr>\n",
       "    <tr>\n",
       "      <th>4</th>\n",
       "      <td>113280</td>\n",
       "      <td>1875.812373</td>\n",
       "    </tr>\n",
       "    <tr>\n",
       "      <th>...</th>\n",
       "      <td>...</td>\n",
       "      <td>...</td>\n",
       "    </tr>\n",
       "    <tr>\n",
       "      <th>1994</th>\n",
       "      <td>118983</td>\n",
       "      <td>1830.672194</td>\n",
       "    </tr>\n",
       "    <tr>\n",
       "      <th>1995</th>\n",
       "      <td>111585</td>\n",
       "      <td>2228.714181</td>\n",
       "    </tr>\n",
       "    <tr>\n",
       "      <th>1996</th>\n",
       "      <td>112274</td>\n",
       "      <td>15679.512629</td>\n",
       "    </tr>\n",
       "    <tr>\n",
       "      <th>1997</th>\n",
       "      <td>110018</td>\n",
       "      <td>2012.849634</td>\n",
       "    </tr>\n",
       "    <tr>\n",
       "      <th>1998</th>\n",
       "      <td>111039</td>\n",
       "      <td>1859.373608</td>\n",
       "    </tr>\n",
       "  </tbody>\n",
       "</table>\n",
       "<p>1999 rows × 2 columns</p>\n",
       "</div>"
      ],
      "text/plain": [
       "          id      CLV_pred\n",
       "0     108917   1921.360250\n",
       "1     110492  76658.540016\n",
       "2     112307   1853.349142\n",
       "3     114731   2074.268242\n",
       "4     113280   1875.812373\n",
       "...      ...           ...\n",
       "1994  118983   1830.672194\n",
       "1995  111585   2228.714181\n",
       "1996  112274  15679.512629\n",
       "1997  110018   2012.849634\n",
       "1998  111039   1859.373608\n",
       "\n",
       "[1999 rows x 2 columns]"
      ]
     },
     "execution_count": 296,
     "metadata": {},
     "output_type": "execute_result"
    }
   ],
   "source": [
    "# prediction of clv for new (unseen) customers.\n",
    "\n",
    "result = pd.DataFrame({'id':data.iloc[X_test.index]['id'].values,'CLV_pred':flat_y_pred})\n",
    "result"
   ]
  },
  {
   "cell_type": "code",
   "execution_count": 297,
   "id": "d276b2b5",
   "metadata": {},
   "outputs": [
    {
     "data": {
      "text/plain": [
       "count    1.999000e+03\n",
       "mean     1.492415e+04\n",
       "std      7.690166e+04\n",
       "min      1.830672e+03\n",
       "25%      1.894634e+03\n",
       "50%      2.086496e+03\n",
       "75%      4.027137e+03\n",
       "max      1.716213e+06\n",
       "Name: CLV_pred, dtype: float64"
      ]
     },
     "execution_count": 297,
     "metadata": {},
     "output_type": "execute_result"
    }
   ],
   "source": [
    "result['CLV_pred'].describe()"
   ]
  },
  {
   "cell_type": "markdown",
   "id": "f7879088",
   "metadata": {},
   "source": [
    "# Results "
   ]
  },
  {
   "cell_type": "markdown",
   "id": "7959e351",
   "metadata": {},
   "source": [
    "The results must be compared with the baseline method:\n",
    "    CLV = (average_sales * average_frerq / churn) * profit_margin\n",
    "we assume that the profit margin is 0.03"
   ]
  },
  {
   "cell_type": "code",
   "execution_count": 282,
   "id": "ad0b61aa",
   "metadata": {},
   "outputs": [],
   "source": [
    "sum_amount = cust_data.groupby('id')['amount'].sum() # total amount per customer\n",
    "transactions_count = cust_data.groupby('id').count()['settledAt']#total number of transactions per customer - frequency"
   ]
  },
  {
   "cell_type": "code",
   "execution_count": 283,
   "id": "32e45613",
   "metadata": {},
   "outputs": [],
   "source": [
    "evaluation_data = pd.merge(transactions_count,sum_amount,on='id') # make a dataframe to evaluate the results "
   ]
  },
  {
   "cell_type": "code",
   "execution_count": 284,
   "id": "ca754a5c",
   "metadata": {},
   "outputs": [],
   "source": [
    "evaluation_data.columns = ['num_transactions','sum_amount']"
   ]
  },
  {
   "cell_type": "code",
   "execution_count": 285,
   "id": "576c81fb",
   "metadata": {
    "scrolled": true
   },
   "outputs": [
    {
     "data": {
      "text/html": [
       "<div>\n",
       "<style scoped>\n",
       "    .dataframe tbody tr th:only-of-type {\n",
       "        vertical-align: middle;\n",
       "    }\n",
       "\n",
       "    .dataframe tbody tr th {\n",
       "        vertical-align: top;\n",
       "    }\n",
       "\n",
       "    .dataframe thead th {\n",
       "        text-align: right;\n",
       "    }\n",
       "</style>\n",
       "<table border=\"1\" class=\"dataframe\">\n",
       "  <thead>\n",
       "    <tr style=\"text-align: right;\">\n",
       "      <th></th>\n",
       "      <th>num_transactions</th>\n",
       "      <th>sum_amount</th>\n",
       "      <th>transaction_value</th>\n",
       "      <th>monthly_CLV</th>\n",
       "    </tr>\n",
       "    <tr>\n",
       "      <th>id</th>\n",
       "      <th></th>\n",
       "      <th></th>\n",
       "      <th></th>\n",
       "      <th></th>\n",
       "    </tr>\n",
       "  </thead>\n",
       "  <tbody>\n",
       "    <tr>\n",
       "      <th>5774</th>\n",
       "      <td>2</td>\n",
       "      <td>100.00</td>\n",
       "      <td>50.000000</td>\n",
       "      <td>3.571429</td>\n",
       "    </tr>\n",
       "    <tr>\n",
       "      <th>5825</th>\n",
       "      <td>3</td>\n",
       "      <td>46.00</td>\n",
       "      <td>15.333333</td>\n",
       "      <td>1.642857</td>\n",
       "    </tr>\n",
       "    <tr>\n",
       "      <th>5830</th>\n",
       "      <td>1</td>\n",
       "      <td>100.00</td>\n",
       "      <td>100.000000</td>\n",
       "      <td>3.571429</td>\n",
       "    </tr>\n",
       "    <tr>\n",
       "      <th>5838</th>\n",
       "      <td>23</td>\n",
       "      <td>1195.77</td>\n",
       "      <td>51.990000</td>\n",
       "      <td>42.706071</td>\n",
       "    </tr>\n",
       "    <tr>\n",
       "      <th>5839</th>\n",
       "      <td>30</td>\n",
       "      <td>916.68</td>\n",
       "      <td>30.556000</td>\n",
       "      <td>32.738571</td>\n",
       "    </tr>\n",
       "    <tr>\n",
       "      <th>...</th>\n",
       "      <td>...</td>\n",
       "      <td>...</td>\n",
       "      <td>...</td>\n",
       "      <td>...</td>\n",
       "    </tr>\n",
       "    <tr>\n",
       "      <th>128786</th>\n",
       "      <td>1</td>\n",
       "      <td>70.00</td>\n",
       "      <td>70.000000</td>\n",
       "      <td>2.500000</td>\n",
       "    </tr>\n",
       "    <tr>\n",
       "      <th>128797</th>\n",
       "      <td>1</td>\n",
       "      <td>100.00</td>\n",
       "      <td>100.000000</td>\n",
       "      <td>3.571429</td>\n",
       "    </tr>\n",
       "    <tr>\n",
       "      <th>128850</th>\n",
       "      <td>1</td>\n",
       "      <td>159.00</td>\n",
       "      <td>159.000000</td>\n",
       "      <td>5.678571</td>\n",
       "    </tr>\n",
       "    <tr>\n",
       "      <th>128853</th>\n",
       "      <td>2</td>\n",
       "      <td>100.00</td>\n",
       "      <td>50.000000</td>\n",
       "      <td>3.571429</td>\n",
       "    </tr>\n",
       "    <tr>\n",
       "      <th>128867</th>\n",
       "      <td>1</td>\n",
       "      <td>40.00</td>\n",
       "      <td>40.000000</td>\n",
       "      <td>1.428571</td>\n",
       "    </tr>\n",
       "  </tbody>\n",
       "</table>\n",
       "<p>6661 rows × 4 columns</p>\n",
       "</div>"
      ],
      "text/plain": [
       "        num_transactions  sum_amount  transaction_value  monthly_CLV\n",
       "id                                                                  \n",
       "5774                   2      100.00          50.000000     3.571429\n",
       "5825                   3       46.00          15.333333     1.642857\n",
       "5830                   1      100.00         100.000000     3.571429\n",
       "5838                  23     1195.77          51.990000    42.706071\n",
       "5839                  30      916.68          30.556000    32.738571\n",
       "...                  ...         ...                ...          ...\n",
       "128786                 1       70.00          70.000000     2.500000\n",
       "128797                 1      100.00         100.000000     3.571429\n",
       "128850                 1      159.00         159.000000     5.678571\n",
       "128853                 2      100.00          50.000000     3.571429\n",
       "128867                 1       40.00          40.000000     1.428571\n",
       "\n",
       "[6661 rows x 4 columns]"
      ]
     },
     "execution_count": 285,
     "metadata": {},
     "output_type": "execute_result"
    }
   ],
   "source": [
    "evaluation_data['transaction_value'] = evaluation_data['sum_amount'] / evaluation_data['num_transactions']\n",
    "evaluation_data['monthly_CLV'] = evaluation_data['sum_amount'] /28\n",
    "evaluation_data"
   ]
  },
  {
   "cell_type": "code",
   "execution_count": 292,
   "id": "a7722232",
   "metadata": {},
   "outputs": [
    {
     "name": "stdout",
     "output_type": "stream",
     "text": [
      "average_amount =  18177.99 average_frerq =  18.98 retention_rate =  0.8707401291097433 churn =  0.13\n"
     ]
    }
   ],
   "source": [
    "# Now, we  calculate the CLV for the Aggregate model.\n",
    "\n",
    "# first, we calculate the necessary variables.\n",
    "average_amount = round(np.mean(evaluation_data['sum_amount']),2)\n",
    "average_frerq = round(np.mean(evaluation_data['num_transactions']),2)\n",
    "retention_rate = evaluation_data[evaluation_data['num_transactions']>1].shape[0]/evaluation_data.shape[0]\n",
    "churn = round(1-retention_rate,2)\n",
    "\n",
    "print('average_amount = ',average_amount,'average_frerq = ',average_frerq,'retention_rate = ',\n",
    "      retention_rate,'churn = ',churn)"
   ]
  },
  {
   "cell_type": "code",
   "execution_count": 298,
   "id": "3316ad85",
   "metadata": {},
   "outputs": [
    {
     "name": "stdout",
     "output_type": "stream",
     "text": [
      "The CLV for each customer is :   79619.6\n"
     ]
    }
   ],
   "source": [
    "profit_margin = 0.03 # assumption \n",
    "\n",
    "CLV = round(((average_amount*average_frerq)/churn)*profit_margin,2)\n",
    "\n",
    "print('The CLV for each customer is :  ',CLV)"
   ]
  },
  {
   "cell_type": "markdown",
   "id": "24a82cd7",
   "metadata": {},
   "source": [
    "From our basic model, we got a CLV value of $80K for each customer. It is really high. The reason is because of the very high amount value from very few customers, which actually skewed the overall number. Indeed:"
   ]
  },
  {
   "cell_type": "code",
   "execution_count": 288,
   "id": "577d93fe",
   "metadata": {},
   "outputs": [
    {
     "data": {
      "text/plain": [
       "count    126394.000000\n",
       "mean        957.985356\n",
       "std        6195.192440\n",
       "min           0.010000\n",
       "25%          12.260000\n",
       "50%          30.000000\n",
       "75%         141.827500\n",
       "max      550000.000000\n",
       "Name: amount, dtype: float64"
      ]
     },
     "execution_count": 288,
     "metadata": {},
     "output_type": "execute_result"
    }
   ],
   "source": [
    "data['amount'].describe()"
   ]
  },
  {
   "cell_type": "code",
   "execution_count": null,
   "id": "62e1a3d3",
   "metadata": {},
   "outputs": [],
   "source": []
  }
 ],
 "metadata": {
  "kernelspec": {
   "display_name": "Python 3 (ipykernel)",
   "language": "python",
   "name": "python3"
  },
  "language_info": {
   "codemirror_mode": {
    "name": "ipython",
    "version": 3
   },
   "file_extension": ".py",
   "mimetype": "text/x-python",
   "name": "python",
   "nbconvert_exporter": "python",
   "pygments_lexer": "ipython3",
   "version": "3.9.12"
  }
 },
 "nbformat": 4,
 "nbformat_minor": 5
}
